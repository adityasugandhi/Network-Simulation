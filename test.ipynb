{
 "cells": [
  {
   "cell_type": "code",
   "execution_count": 5,
   "metadata": {},
   "outputs": [
    {
     "name": "stdout",
     "output_type": "stream",
     "text": [
      "['12', '24', '36', '60']\n",
      "[False, False, False, False, False, False, False, False, False, False]\n"
     ]
    }
   ],
   "source": [
    "s = \"12243660\"\n",
    "array = []\n",
    "a = \"\"\n",
    "for i in range(0,len(s)):\n",
    "    a = a+str(s[i])\n",
    "    if i % 2 !=0:\n",
    "        array.append(a)\n",
    "        a =\"\"\n",
    "\n",
    "print(array)\n",
    "flag = True\n",
    "def backtrack(array,index,sum):\n",
    "    for i in range(index,len(array)):\n",
    "        if array[i] + array[i+1] == array[i+3] :\n",
    "            flag = True\n",
    "        else: \n",
    "            flag= False\n",
    "visited = [False] * 10\n",
    "print(visited)"
   ]
  },
  {
   "cell_type": "code",
   "execution_count": 8,
   "metadata": {},
   "outputs": [
    {
     "name": "stdout",
     "output_type": "stream",
     "text": [
      "[[1, 2, 3], [2, 3], [0, 3, 3], [3]]\n"
     ]
    }
   ],
   "source": [
    "class Graph:\n",
    "    def __init__(self,V):\n",
    "        self.V = V\n",
    "        self.graph = [[] for i in range(V)]\n",
    "\n",
    "    def addEdge(self,u,v):\n",
    "        self.graph[u].append(v)\n",
    "\n",
    "    def countPaths(self,s,d):\n",
    "        visited = [False] * (self.V)\n",
    "        \n",
    "        pathCount = 0\n",
    "        self.countPathsUtil(s,d,visited,pathCount)\n",
    "        return pathCount[0]\n",
    "    def countPathsUtil(self,s,d,visited,pathCount):\n",
    "        visited[s] = True\n",
    "        if s == d:\n",
    "            pathCount[0] += 1\n",
    "        else:\n",
    "            i = 0\n",
    "            while i < len(self.graph[s]):\n",
    "                if not visited[self.graph[s][i]]:\n",
    "                    self.countPathsUtil(self.graph[s][i],d,visited,pathCount)\n",
    "                i += 1\n",
    "\n",
    "if __name__ == \"__main__\":\n",
    "    g = Graph(4)\n",
    "    g.addEdge(0,1)\n",
    "    g.addEdge(0,2)\n",
    "    g.addEdge(1,2)\n",
    "    g.addEdge(2,0)\n",
    "    g.addEdge(2,3)\n",
    "    g.addEdge(3,3)\n",
    "    g.addEdge(1,3)\n",
    "    g.addEdge(0,3)\n",
    "    print(g.graph)\n",
    "    visited = [False] * (g.V)\n",
    "\n"
   ]
  }
 ],
 "metadata": {
  "kernelspec": {
   "display_name": "Python 3",
   "language": "python",
   "name": "python3"
  },
  "language_info": {
   "codemirror_mode": {
    "name": "ipython",
    "version": 3
   },
   "file_extension": ".py",
   "mimetype": "text/x-python",
   "name": "python",
   "nbconvert_exporter": "python",
   "pygments_lexer": "ipython3",
   "version": "3.10.12"
  }
 },
 "nbformat": 4,
 "nbformat_minor": 2
}
