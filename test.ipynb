{
 "cells": [
  {
   "cell_type": "code",
   "execution_count": 5,
   "metadata": {},
   "outputs": [
    {
     "name": "stdout",
     "output_type": "stream",
     "text": [
      "['12', '24', '36', '60']\n",
      "[False, False, False, False, False, False, False, False, False, False]\n"
     ]
    }
   ],
   "source": [
    "s = \"12243660\"\n",
    "array = []\n",
    "a = \"\"\n",
    "for i in range(0,len(s)):\n",
    "    a = a+str(s[i])\n",
    "    if i % 2 !=0:\n",
    "        array.append(a)\n",
    "        a =\"\"\n",
    "\n",
    "print(array)\n",
    "flag = True\n",
    "def backtrack(array,index,sum):\n",
    "    for i in range(index,len(array)):\n",
    "        if array[i] + array[i+1] == array[i+3] :\n",
    "            flag = True\n",
    "        else: \n",
    "            flag= False\n",
    "visited = [False] * 10\n",
    "print(visited)"
   ]
  },
  {
   "cell_type": "code",
   "execution_count": 20,
   "metadata": {},
   "outputs": [
    {
     "name": "stdout",
     "output_type": "stream",
     "text": [
      "['cs1,127.0.0.1,5555\\n', 'cs2,127.0.0.2,4456']\n",
      "cs1\n",
      "cs2\n"
     ]
    }
   ],
   "source": [
    "class Bridge:\n",
    "    def __init__(self,name,ip_address, port):\n",
    "        self.name = name\n",
    "        self.ip_address = ip_address\n",
    "        self.port = port\n",
    "        self.bridges = []\n",
    "def bridge_read(filepath):\n",
    "    bridge_parts = []\n",
    "    with open(filepath,'r') as bf:\n",
    "        lines = bf.readlines()\n",
    "        print(lines)\n",
    "        for line in lines:\n",
    "            parts =  line.split(',')\n",
    "            bridge_parts.append(parts)\n",
    "            \n",
    "        return bridge_parts\n",
    "\n",
    "parts =  bridge_read('bridge.txt')\n",
    "\n",
    "for part in parts:\n",
    "    B = Bridge(part[0],part[1],part[2])\n",
    "    B.bridges.append(B)\n",
    "    for bridge in B.bridges :\n",
    "        if 'cs1' in bridge.name:\n",
    "            print(True)\n",
    "# B =  Bridge(parts[0],parts[1],parts[2])\n",
    "# B.bridges.append(B)\n",
    "# for bridge in B.bridges :\n",
    "#     print(bridge.name) \n",
    "\n",
    "\n"
   ]
  }
 ],
 "metadata": {
  "kernelspec": {
   "display_name": "Python 3",
   "language": "python",
   "name": "python3"
  },
  "language_info": {
   "codemirror_mode": {
    "name": "ipython",
    "version": 3
   },
   "file_extension": ".py",
   "mimetype": "text/x-python",
   "name": "python",
   "nbconvert_exporter": "python",
   "pygments_lexer": "ipython3",
   "version": "3.9.6"
  }
 },
 "nbformat": 4,
 "nbformat_minor": 2
}
